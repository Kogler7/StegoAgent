{
 "cells": [
  {
   "cell_type": "code",
   "execution_count": 11,
   "metadata": {},
   "outputs": [],
   "source": [
    "from utils import kernels, base_indexes, pre_process, feature_extract, train\n",
    "from sklearn.model_selection import cross_val_predict"
   ]
  },
  {
   "cell_type": "code",
   "execution_count": 12,
   "metadata": {},
   "outputs": [],
   "source": [
    "from sklearn.ensemble import RandomForestClassifier\n",
    "from sklearn.ensemble import AdaBoostClassifier\n",
    "from sklearn.ensemble import GradientBoostingClassifier\n",
    "from sklearn.ensemble import ExtraTreesClassifier\n",
    "from sklearn.ensemble import BaggingClassifier\n",
    "from sklearn.tree import DecisionTreeClassifier\n",
    "from sklearn.neighbors import KNeighborsClassifier\n",
    "from sklearn.svm import SVC\n",
    "from sklearn.naive_bayes import GaussianNB\n",
    "from sklearn.linear_model import LogisticRegression\n",
    "from sklearn.linear_model import SGDClassifier\n",
    "from sklearn.neural_network import MLPClassifier"
   ]
  },
  {
   "cell_type": "code",
   "execution_count": 13,
   "metadata": {},
   "outputs": [],
   "source": [
    "models = [\n",
    "    RandomForestClassifier(),\n",
    "    AdaBoostClassifier(),\n",
    "    GradientBoostingClassifier(),\n",
    "    ExtraTreesClassifier(),\n",
    "    BaggingClassifier(),\n",
    "    DecisionTreeClassifier(),\n",
    "    KNeighborsClassifier(),\n",
    "    SVC(),\n",
    "    GaussianNB(),\n",
    "    LogisticRegression(),\n",
    "    SGDClassifier(),\n",
    "    MLPClassifier()\n",
    "]"
   ]
  },
  {
   "cell_type": "code",
   "execution_count": 14,
   "metadata": {},
   "outputs": [],
   "source": [
    "kernel=kernels[0]\n",
    "indexes = [0,1,2,3,5]\n",
    "data_x, data_y = feature_extract(nr_imgs=64, kernel=kernel, indexes=indexes)"
   ]
  },
  {
   "cell_type": "code",
   "execution_count": 15,
   "metadata": {},
   "outputs": [
    {
     "name": "stdout",
     "output_type": "stream",
     "text": [
      "[RandomForestClassifier()]: 精度:0.94, 查准率:0.89, 查全率:1.0, f1值:0.94\n",
      "[AdaBoostClassifier()]: 精度:0.94, 查准率:0.89, 查全率:1.0, f1值:0.94\n",
      "[GradientBoostingClassifier()]: 精度:0.94, 查准率:0.89, 查全率:1.0, f1值:0.94\n",
      "[ExtraTreesClassifier()]: 精度:0.94, 查准率:0.89, 查全率:1.0, f1值:0.94\n",
      "[BaggingClassifier()]: 精度:0.94, 查准率:0.89, 查全率:1.0, f1值:0.94\n",
      "[DecisionTreeClassifier()]: 精度:0.94, 查准率:0.89, 查全率:1.0, f1值:0.94\n",
      "[KNeighborsClassifier()]: 精度:0.94, 查准率:0.89, 查全率:1.0, f1值:0.94\n",
      "[SVC()]: 精度:0.94, 查准率:0.89, 查全率:1.0, f1值:0.94\n",
      "[GaussianNB()]: 精度:0.94, 查准率:0.89, 查全率:1.0, f1值:0.94\n",
      "[LogisticRegression()]: 精度:0.94, 查准率:0.89, 查全率:1.0, f1值:0.94\n",
      "[SGDClassifier()]: 精度:0.94, 查准率:0.89, 查全率:1.0, f1值:0.94\n"
     ]
    },
    {
     "name": "stderr",
     "output_type": "stream",
     "text": [
      "c:\\Users\\Kolger\\AppData\\Local\\Programs\\Python\\Python39\\lib\\site-packages\\sklearn\\neural_network\\_multilayer_perceptron.py:702: ConvergenceWarning: Stochastic Optimizer: Maximum iterations (200) reached and the optimization hasn't converged yet.\n",
      "  warnings.warn(\n",
      "c:\\Users\\Kolger\\AppData\\Local\\Programs\\Python\\Python39\\lib\\site-packages\\sklearn\\neural_network\\_multilayer_perceptron.py:702: ConvergenceWarning: Stochastic Optimizer: Maximum iterations (200) reached and the optimization hasn't converged yet.\n",
      "  warnings.warn(\n",
      "c:\\Users\\Kolger\\AppData\\Local\\Programs\\Python\\Python39\\lib\\site-packages\\sklearn\\neural_network\\_multilayer_perceptron.py:702: ConvergenceWarning: Stochastic Optimizer: Maximum iterations (200) reached and the optimization hasn't converged yet.\n",
      "  warnings.warn(\n",
      "c:\\Users\\Kolger\\AppData\\Local\\Programs\\Python\\Python39\\lib\\site-packages\\sklearn\\neural_network\\_multilayer_perceptron.py:702: ConvergenceWarning: Stochastic Optimizer: Maximum iterations (200) reached and the optimization hasn't converged yet.\n",
      "  warnings.warn(\n",
      "c:\\Users\\Kolger\\AppData\\Local\\Programs\\Python\\Python39\\lib\\site-packages\\sklearn\\neural_network\\_multilayer_perceptron.py:702: ConvergenceWarning: Stochastic Optimizer: Maximum iterations (200) reached and the optimization hasn't converged yet.\n",
      "  warnings.warn(\n",
      "c:\\Users\\Kolger\\AppData\\Local\\Programs\\Python\\Python39\\lib\\site-packages\\sklearn\\neural_network\\_multilayer_perceptron.py:702: ConvergenceWarning: Stochastic Optimizer: Maximum iterations (200) reached and the optimization hasn't converged yet.\n",
      "  warnings.warn(\n",
      "c:\\Users\\Kolger\\AppData\\Local\\Programs\\Python\\Python39\\lib\\site-packages\\sklearn\\neural_network\\_multilayer_perceptron.py:702: ConvergenceWarning: Stochastic Optimizer: Maximum iterations (200) reached and the optimization hasn't converged yet.\n",
      "  warnings.warn(\n",
      "c:\\Users\\Kolger\\AppData\\Local\\Programs\\Python\\Python39\\lib\\site-packages\\sklearn\\neural_network\\_multilayer_perceptron.py:702: ConvergenceWarning: Stochastic Optimizer: Maximum iterations (200) reached and the optimization hasn't converged yet.\n",
      "  warnings.warn(\n"
     ]
    },
    {
     "name": "stdout",
     "output_type": "stream",
     "text": [
      "[MLPClassifier()]: 精度:0.94, 查准率:0.89, 查全率:1.0, f1值:0.94\n"
     ]
    },
    {
     "name": "stderr",
     "output_type": "stream",
     "text": [
      "c:\\Users\\Kolger\\AppData\\Local\\Programs\\Python\\Python39\\lib\\site-packages\\sklearn\\neural_network\\_multilayer_perceptron.py:702: ConvergenceWarning: Stochastic Optimizer: Maximum iterations (200) reached and the optimization hasn't converged yet.\n",
      "  warnings.warn(\n",
      "c:\\Users\\Kolger\\AppData\\Local\\Programs\\Python\\Python39\\lib\\site-packages\\sklearn\\neural_network\\_multilayer_perceptron.py:702: ConvergenceWarning: Stochastic Optimizer: Maximum iterations (200) reached and the optimization hasn't converged yet.\n",
      "  warnings.warn(\n"
     ]
    },
    {
     "data": {
      "text/plain": [
       "[0.94,\n",
       " 0.89,\n",
       " 1.0,\n",
       " 0.94,\n",
       " 0.94,\n",
       " 0.89,\n",
       " 1.0,\n",
       " 0.94,\n",
       " 0.94,\n",
       " 0.89,\n",
       " 1.0,\n",
       " 0.94,\n",
       " 0.94,\n",
       " 0.89,\n",
       " 1.0,\n",
       " 0.94,\n",
       " 0.94,\n",
       " 0.89,\n",
       " 1.0,\n",
       " 0.94,\n",
       " 0.94,\n",
       " 0.89,\n",
       " 1.0,\n",
       " 0.94,\n",
       " 0.94,\n",
       " 0.89,\n",
       " 1.0,\n",
       " 0.94,\n",
       " 0.94,\n",
       " 0.89,\n",
       " 1.0,\n",
       " 0.94,\n",
       " 0.94,\n",
       " 0.89,\n",
       " 1.0,\n",
       " 0.94,\n",
       " 0.94,\n",
       " 0.89,\n",
       " 1.0,\n",
       " 0.94,\n",
       " 0.94,\n",
       " 0.89,\n",
       " 1.0,\n",
       " 0.94,\n",
       " 0.94,\n",
       " 0.89,\n",
       " 1.0,\n",
       " 0.94]"
      ]
     },
     "execution_count": 15,
     "metadata": {},
     "output_type": "execute_result"
    }
   ],
   "source": [
    "train(data_x, data_y, models=models)"
   ]
  }
 ],
 "metadata": {
  "kernelspec": {
   "display_name": "Python 3",
   "language": "python",
   "name": "python3"
  },
  "language_info": {
   "codemirror_mode": {
    "name": "ipython",
    "version": 3
   },
   "file_extension": ".py",
   "mimetype": "text/x-python",
   "name": "python",
   "nbconvert_exporter": "python",
   "pygments_lexer": "ipython3",
   "version": "3.9.13 (tags/v3.9.13:6de2ca5, May 17 2022, 16:36:42) [MSC v.1929 64 bit (AMD64)]"
  },
  "orig_nbformat": 4,
  "vscode": {
   "interpreter": {
    "hash": "04e9e5813dec23cf8df0339dedd56294605ba429ed9ba664adae1d7849234c53"
   }
  }
 },
 "nbformat": 4,
 "nbformat_minor": 2
}
