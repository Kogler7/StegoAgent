{
 "cells": [
  {
   "cell_type": "code",
   "execution_count": 9,
   "metadata": {},
   "outputs": [],
   "source": [
    "from utils import kernels, base_indexes, pre_process, feature_extract, train\n",
    "from sklearn.model_selection import cross_val_predict"
   ]
  },
  {
   "cell_type": "code",
   "execution_count": 10,
   "metadata": {},
   "outputs": [],
   "source": [
    "from sklearn.neural_network import MLPClassifier\n",
    "mlp=MLPClassifier(hidden_layer_sizes=(100,100,100),max_iter=1000,activation='relu',solver='adam',random_state=1)"
   ]
  },
  {
   "cell_type": "code",
   "execution_count": 11,
   "metadata": {},
   "outputs": [],
   "source": [
    "kernel=kernels[0]\n",
    "indexes = [0,1,2,3,5,8,9,10,11,12,13,14,15,16]\n",
    "data_x, data_y = feature_extract(nr_imgs=128, kernel=kernel, indexes=indexes)"
   ]
  },
  {
   "cell_type": "code",
   "execution_count": 12,
   "metadata": {},
   "outputs": [
    {
     "name": "stdout",
     "output_type": "stream",
     "text": [
      "[MLPClassifier(hidden_layer_sizes=(100, 100, 100), max_iter=1000, random_state=1)]: 精度:0.89, 查准率:0.9, 查全率:0.89, f1值:0.89\n"
     ]
    },
    {
     "data": {
      "text/plain": [
       "[0.89, 0.9, 0.89, 0.89]"
      ]
     },
     "execution_count": 12,
     "metadata": {},
     "output_type": "execute_result"
    }
   ],
   "source": [
    "train(data_x, data_y, models=[mlp])"
   ]
  }
 ],
 "metadata": {
  "kernelspec": {
   "display_name": "Python 3",
   "language": "python",
   "name": "python3"
  },
  "language_info": {
   "codemirror_mode": {
    "name": "ipython",
    "version": 3
   },
   "file_extension": ".py",
   "mimetype": "text/x-python",
   "name": "python",
   "nbconvert_exporter": "python",
   "pygments_lexer": "ipython3",
   "version": "3.9.13 (tags/v3.9.13:6de2ca5, May 17 2022, 16:36:42) [MSC v.1929 64 bit (AMD64)]"
  },
  "orig_nbformat": 4,
  "vscode": {
   "interpreter": {
    "hash": "04e9e5813dec23cf8df0339dedd56294605ba429ed9ba664adae1d7849234c53"
   }
  }
 },
 "nbformat": 4,
 "nbformat_minor": 2
}
