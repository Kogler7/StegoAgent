{
 "cells": [
  {
   "cell_type": "code",
   "execution_count": 1,
   "metadata": {},
   "outputs": [],
   "source": [
    "from cus_model import CustomSVM, CustomKNN, CustomLogistic,CustomLDA, custom_cross_val_predict\n",
    "from utils import kernels, base_indexes, pre_process, feature_extract, train"
   ]
  },
  {
   "cell_type": "code",
   "execution_count": 2,
   "metadata": {},
   "outputs": [],
   "source": [
    "models = [\n",
    "    CustomSVM(),\n",
    "    CustomKNN(5),\n",
    "    CustomLDA(),\n",
    "    CustomLogistic(32)\n",
    "]"
   ]
  },
  {
   "cell_type": "code",
   "execution_count": 3,
   "metadata": {},
   "outputs": [
    {
     "name": "stdout",
     "output_type": "stream",
     "text": [
      "[[1 1 1 0 0]\n",
      " [1 1 0 0 0]\n",
      " [1 1 1 0 0]\n",
      " [1 1 1 1 0]\n",
      " [1 1 1 0 0]\n",
      " [1 1 0 0 0]\n",
      " [0 1 1 1 0]\n",
      " [1 1 1 0 0]\n",
      " [1 1 1 1 0]\n",
      " [1 1 1 1 0]\n",
      " [1 1 1 0 0]\n",
      " [1 1 1 0 0]\n",
      " [1 1 1 1 0]\n",
      " [1 1 1 0 0]\n",
      " [1 1 1 0 0]\n",
      " [1 1 1 1 0]\n",
      " [1 1 1 0 0]\n",
      " [1 1 1 1 0]\n",
      " [1 1 1 1 0]\n",
      " [1 1 1 0 0]\n",
      " [1 1 1 1 0]\n",
      " [1 1 1 1 0]\n",
      " [1 1 1 0 0]\n",
      " [1 0 0 0 0]\n",
      " [1 1 1 1 0]\n",
      " [1 1 1 0 0]\n",
      " [1 1 1 1 0]\n",
      " [1 1 1 0 0]\n",
      " [1 0 0 0 0]\n",
      " [1 1 0 0 0]\n",
      " [1 1 1 1 0]\n",
      " [1 1 1 1 0]\n",
      " [1 1 1 0 0]\n",
      " [1 1 1 1 0]\n",
      " [1 1 1 1 0]\n",
      " [1 1 1 1 0]\n",
      " [1 1 1 1 0]\n",
      " [1 1 1 1 0]\n",
      " [1 1 1 1 0]\n",
      " [1 1 0 0 0]\n",
      " [1 1 0 0 0]\n",
      " [1 1 1 0 0]\n",
      " [1 1 1 0 0]\n",
      " [1 1 1 1 0]\n",
      " [1 1 1 0 0]\n",
      " [1 1 1 1 0]\n",
      " [1 0 0 0 0]\n",
      " [1 1 1 1 0]\n",
      " [1 1 1 1 0]\n",
      " [1 1 1 1 0]\n",
      " [1 1 1 1 0]\n",
      " [1 1 1 1 0]\n",
      " [1 1 1 1 0]\n",
      " [1 1 1 0 0]\n",
      " [1 1 1 1 0]\n",
      " [1 1 1 1 0]\n",
      " [1 1 1 0 0]\n",
      " [1 1 1 1 0]\n",
      " [0 1 1 1 0]\n",
      " [1 1 1 1 0]\n",
      " [1 1 0 0 0]\n",
      " [1 1 1 0 0]\n",
      " [1 1 1 0 0]\n",
      " [1 1 1 1 0]\n",
      " [1 0 0 0 0]\n",
      " [1 1 1 1 0]\n",
      " [1 1 1 0 0]\n",
      " [1 1 1 1 0]\n",
      " [1 1 1 1 0]\n",
      " [1 1 1 0 0]\n",
      " [1 1 1 1 0]\n",
      " [1 0 0 0 0]\n",
      " [1 1 1 0 0]\n",
      " [1 1 1 0 0]\n",
      " [1 1 1 1 0]\n",
      " [1 1 1 1 0]\n",
      " [1 1 1 1 0]\n",
      " [1 1 0 0 0]\n",
      " [1 1 1 1 0]\n",
      " [1 1 1 1 0]\n",
      " [1 1 1 1 0]\n",
      " [1 1 1 0 0]\n",
      " [1 1 1 1 0]\n",
      " [1 0 0 0 0]\n",
      " [1 1 1 1 0]\n",
      " [1 1 1 0 0]\n",
      " [1 0 0 0 0]\n",
      " [1 1 1 1 0]\n",
      " [1 1 1 1 0]\n",
      " [1 1 1 1 0]\n",
      " [1 1 1 1 0]\n",
      " [1 1 1 1 0]\n",
      " [1 1 1 1 0]\n",
      " [1 0 0 0 0]\n",
      " [1 1 1 1 0]\n",
      " [1 1 1 1 0]\n",
      " [1 1 1 0 0]\n",
      " [1 1 1 0 0]\n",
      " [1 0 0 0 0]\n",
      " [1 1 1 0 0]\n",
      " [1 1 1 1 0]\n",
      " [1 1 1 1 0]\n",
      " [1 1 1 1 0]\n",
      " [1 1 1 1 0]\n",
      " [1 1 1 1 0]\n",
      " [1 1 1 0 0]\n",
      " [1 1 1 1 0]\n",
      " [1 1 1 1 0]\n",
      " [1 1 1 0 0]\n",
      " [1 1 1 1 0]\n",
      " [1 1 1 0 0]\n",
      " [1 1 1 0 0]\n",
      " [1 1 1 1 0]\n",
      " [1 1 1 0 0]\n",
      " [1 1 0 0 0]\n",
      " [1 1 1 1 0]\n",
      " [1 1 1 0 0]\n",
      " [1 1 1 0 0]\n",
      " [1 1 1 1 0]\n",
      " [1 1 1 1 0]\n",
      " [1 1 1 1 0]\n",
      " [1 1 1 1 0]\n",
      " [1 1 1 1 0]\n",
      " [1 1 1 1 0]\n",
      " [1 1 1 0 0]\n",
      " [1 1 1 1 0]\n",
      " [1 1 1 1 0]\n",
      " [1 1 0 0 0]] [0 0 0 1 0 0 1 0 1 1 0 0 1 0 0 1 0 1 0 0 0 1 0 0 1 0 1 0 0 0 1 1 0 1 1 1 1\n",
      " 1 1 0 0 0 0 1 0 1 0 1 1 1 0 1 1 0 1 1 0 1 1 0 0 0 0 1 0 1 0 1 1 0 1 0 0 0\n",
      " 1 1 1 0 1 1 1 0 1 0 1 0 0 1 1 1 0 0 0 0 1 1 0 0 0 0 1 1 1 1 0 0 1 1 0 1 0\n",
      " 0 1 0 0 1 0 0 1 1 1 1 1 1 0 1 1 0]\n"
     ]
    }
   ],
   "source": [
    "kernel=kernels[0]\n",
    "indexes = [0,1,2,3,5]\n",
    "data_x, data_y = feature_extract(nr_imgs=64, kernel=kernel, indexes=indexes)\n",
    "print(data_x, data_y)"
   ]
  },
  {
   "cell_type": "code",
   "execution_count": 4,
   "metadata": {},
   "outputs": [
    {
     "name": "stdout",
     "output_type": "stream",
     "text": [
      "[<cus_model.CustomSVM object at 0x000001C98A563610>]: 精度:0.5, 查准率:0.5, 查全率:1.0, f1值:0.67\n",
      "[<cus_model.CustomKNN object at 0x000001C98A502B80>]: 精度:0.94, 查准率:0.89, 查全率:1.0, f1值:0.94\n"
     ]
    },
    {
     "ename": "LinAlgError",
     "evalue": "Singular matrix",
     "output_type": "error",
     "traceback": [
      "\u001b[1;31m---------------------------------------------------------------------------\u001b[0m",
      "\u001b[1;31mLinAlgError\u001b[0m                               Traceback (most recent call last)",
      "Cell \u001b[1;32mIn [4], line 1\u001b[0m\n\u001b[1;32m----> 1\u001b[0m train(data_x, data_y, models\u001b[39m=\u001b[39;49mmodels, cross\u001b[39m=\u001b[39;49mcustom_cross_val_predict)\n",
      "File \u001b[1;32md:\\CodeBase\\MachineLearning\\StegoAgent\\utils.py:49\u001b[0m, in \u001b[0;36mtrain\u001b[1;34m(data_x, data_y, models, cross)\u001b[0m\n\u001b[0;32m     47\u001b[0m res \u001b[39m=\u001b[39m []\n\u001b[0;32m     48\u001b[0m \u001b[39mfor\u001b[39;00m model \u001b[39min\u001b[39;00m models:\n\u001b[1;32m---> 49\u001b[0m     prediction \u001b[39m=\u001b[39m cross(model, data_x, data_y, cv\u001b[39m=\u001b[39;49m\u001b[39m10\u001b[39;49m)\n\u001b[0;32m     50\u001b[0m     acc \u001b[39m=\u001b[39m \u001b[39mround\u001b[39m(accuracy_score(data_y, prediction), \u001b[39m2\u001b[39m)\n\u001b[0;32m     51\u001b[0m     precision \u001b[39m=\u001b[39m \u001b[39mround\u001b[39m(precision_score(data_y, prediction), \u001b[39m2\u001b[39m)\n",
      "File \u001b[1;32md:\\CodeBase\\MachineLearning\\StegoAgent\\cus_model.py:144\u001b[0m, in \u001b[0;36mcustom_cross_val_predict\u001b[1;34m(model, X, y, cv)\u001b[0m\n\u001b[0;32m    142\u001b[0m     y_train, y_test \u001b[39m=\u001b[39m y[train_index], y[test_index]\n\u001b[0;32m    143\u001b[0m     model\u001b[39m.\u001b[39mfit(X_train, y_train)\n\u001b[1;32m--> 144\u001b[0m     y_pred[test_index] \u001b[39m=\u001b[39m model\u001b[39m.\u001b[39;49mpredict(X_test)\n\u001b[0;32m    145\u001b[0m \u001b[39mreturn\u001b[39;00m y_pred\n",
      "File \u001b[1;32md:\\CodeBase\\MachineLearning\\StegoAgent\\cus_model.py:192\u001b[0m, in \u001b[0;36mCustomLDA.predict\u001b[1;34m(self, X)\u001b[0m\n\u001b[0;32m    191\u001b[0m \u001b[39mdef\u001b[39;00m \u001b[39mpredict\u001b[39m(\u001b[39mself\u001b[39m, X):\n\u001b[1;32m--> 192\u001b[0m     pred_probs \u001b[39m=\u001b[39m \u001b[39mself\u001b[39;49m\u001b[39m.\u001b[39;49mpredict_probs(X)\n\u001b[0;32m    193\u001b[0m     pred_value \u001b[39m=\u001b[39m np\u001b[39m.\u001b[39margmax(pred_probs, axis\u001b[39m=\u001b[39m\u001b[39m1\u001b[39m)\n\u001b[0;32m    194\u001b[0m     \u001b[39mreturn\u001b[39;00m pred_value\n",
      "File \u001b[1;32md:\\CodeBase\\MachineLearning\\StegoAgent\\cus_model.py:181\u001b[0m, in \u001b[0;36mCustomLDA.predict_probs\u001b[1;34m(self, X)\u001b[0m\n\u001b[0;32m    179\u001b[0m Sigma \u001b[39m=\u001b[39m \u001b[39mself\u001b[39m\u001b[39m.\u001b[39mcov\n\u001b[0;32m    180\u001b[0m U, S, V \u001b[39m=\u001b[39m np\u001b[39m.\u001b[39mlinalg\u001b[39m.\u001b[39msvd(Sigma)\n\u001b[1;32m--> 181\u001b[0m Sn \u001b[39m=\u001b[39m np\u001b[39m.\u001b[39;49mlinalg\u001b[39m.\u001b[39;49minv(np\u001b[39m.\u001b[39;49mdiag(S))\n\u001b[0;32m    182\u001b[0m Sigma_inv \u001b[39m=\u001b[39m np\u001b[39m.\u001b[39mdot(np\u001b[39m.\u001b[39mdot(V\u001b[39m.\u001b[39mT, Sn), U\u001b[39m.\u001b[39mT)\n\u001b[0;32m    183\u001b[0m \u001b[39m# 线性判别函数值, 求出分类概率\u001b[39;00m\n",
      "File \u001b[1;32m<__array_function__ internals>:180\u001b[0m, in \u001b[0;36minv\u001b[1;34m(*args, **kwargs)\u001b[0m\n",
      "File \u001b[1;32mc:\\Users\\Kolger\\AppData\\Local\\Programs\\Python\\Python39\\lib\\site-packages\\numpy\\linalg\\linalg.py:552\u001b[0m, in \u001b[0;36minv\u001b[1;34m(a)\u001b[0m\n\u001b[0;32m    550\u001b[0m signature \u001b[39m=\u001b[39m \u001b[39m'\u001b[39m\u001b[39mD->D\u001b[39m\u001b[39m'\u001b[39m \u001b[39mif\u001b[39;00m isComplexType(t) \u001b[39melse\u001b[39;00m \u001b[39m'\u001b[39m\u001b[39md->d\u001b[39m\u001b[39m'\u001b[39m\n\u001b[0;32m    551\u001b[0m extobj \u001b[39m=\u001b[39m get_linalg_error_extobj(_raise_linalgerror_singular)\n\u001b[1;32m--> 552\u001b[0m ainv \u001b[39m=\u001b[39m _umath_linalg\u001b[39m.\u001b[39;49minv(a, signature\u001b[39m=\u001b[39;49msignature, extobj\u001b[39m=\u001b[39;49mextobj)\n\u001b[0;32m    553\u001b[0m \u001b[39mreturn\u001b[39;00m wrap(ainv\u001b[39m.\u001b[39mastype(result_t, copy\u001b[39m=\u001b[39m\u001b[39mFalse\u001b[39;00m))\n",
      "File \u001b[1;32mc:\\Users\\Kolger\\AppData\\Local\\Programs\\Python\\Python39\\lib\\site-packages\\numpy\\linalg\\linalg.py:89\u001b[0m, in \u001b[0;36m_raise_linalgerror_singular\u001b[1;34m(err, flag)\u001b[0m\n\u001b[0;32m     88\u001b[0m \u001b[39mdef\u001b[39;00m \u001b[39m_raise_linalgerror_singular\u001b[39m(err, flag):\n\u001b[1;32m---> 89\u001b[0m     \u001b[39mraise\u001b[39;00m LinAlgError(\u001b[39m\"\u001b[39m\u001b[39mSingular matrix\u001b[39m\u001b[39m\"\u001b[39m)\n",
      "\u001b[1;31mLinAlgError\u001b[0m: Singular matrix"
     ]
    }
   ],
   "source": [
    "train(data_x, data_y, models=models, cross=custom_cross_val_predict)"
   ]
  }
 ],
 "metadata": {
  "kernelspec": {
   "display_name": "Python 3",
   "language": "python",
   "name": "python3"
  },
  "language_info": {
   "codemirror_mode": {
    "name": "ipython",
    "version": 3
   },
   "file_extension": ".py",
   "mimetype": "text/x-python",
   "name": "python",
   "nbconvert_exporter": "python",
   "pygments_lexer": "ipython3",
   "version": "3.9.13"
  },
  "orig_nbformat": 4,
  "vscode": {
   "interpreter": {
    "hash": "04e9e5813dec23cf8df0339dedd56294605ba429ed9ba664adae1d7849234c53"
   }
  }
 },
 "nbformat": 4,
 "nbformat_minor": 2
}
