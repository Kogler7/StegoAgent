{
 "cells": [
  {
   "cell_type": "code",
   "execution_count": 90,
   "metadata": {},
   "outputs": [],
   "source": [
    "import numpy as np\n",
    "import cv2\n",
    "import matplotlib.pyplot as plt\n",
    "import torch\n",
    "import time\n",
    "from torch import nn\n",
    "from sklearn.linear_model import LogisticRegression\n",
    "from sklearn.model_selection import cross_val_predict\n",
    "from sklearn.metrics import accuracy_score\n",
    "from sklearn.metrics import precision_score\n",
    "from sklearn.metrics import recall_score\n",
    "from sklearn.metrics import f1_score"
   ]
  },
  {
   "cell_type": "code",
   "execution_count": 91,
   "metadata": {},
   "outputs": [],
   "source": [
    "path = r'data'\n",
    "kernels = [[[-1, 1]], [[-1],[1]],[[0, -1, 0], [-1, 4, -1], [0, -1, 0]], [[-1, 0, -1], [-1, 6, -1], [-1, 0, -1]], [[-1, -1, -1], [-1, 8, -1], [-1, -1, -1]]]\n",
    "indexes = [0, 2, 4, 6, 8, 9, 10, 50, 100, 200, 255]\n",
    "nr_imgs = 100"
   ]
  },
  {
   "cell_type": "code",
   "execution_count": 92,
   "metadata": {},
   "outputs": [],
   "source": [
    "pool = nn.MaxPool1d(5)"
   ]
  },
  {
   "cell_type": "code",
   "execution_count": 93,
   "metadata": {},
   "outputs": [
    {
     "name": "stdout",
     "output_type": "stream",
     "text": [
      "[1.60172e+05 6.20900e+03 1.97200e+03 8.57000e+02 4.61000e+02 2.48000e+02\n",
      " 1.59000e+02 1.12000e+02 8.10000e+01 5.40000e+01 3.70000e+01 2.90000e+01\n",
      " 2.50000e+01 1.80000e+01 1.50000e+01 1.10000e+01 1.00000e+01 9.00000e+00\n",
      " 9.00000e+00 5.00000e+00 7.00000e+00 3.00000e+00 3.00000e+00 2.00000e+00\n",
      " 1.00000e+00 1.00000e+00 0.00000e+00 0.00000e+00 0.00000e+00 0.00000e+00\n",
      " 0.00000e+00 0.00000e+00 0.00000e+00 0.00000e+00 0.00000e+00 0.00000e+00\n",
      " 0.00000e+00 0.00000e+00 0.00000e+00 0.00000e+00 0.00000e+00 0.00000e+00\n",
      " 0.00000e+00 0.00000e+00 0.00000e+00 0.00000e+00 0.00000e+00 0.00000e+00\n",
      " 0.00000e+00 0.00000e+00 0.00000e+00 1.59147e+05 5.24300e+03 2.75700e+03\n",
      " 1.50700e+03 9.37000e+02 5.83000e+02 4.27000e+02 3.10000e+02 2.04000e+02\n",
      " 1.58000e+02 1.28000e+02 9.30000e+01 7.80000e+01 6.80000e+01 5.90000e+01\n",
      " 5.00000e+01 4.30000e+01 3.50000e+01 4.30000e+01 3.20000e+01 2.60000e+01\n",
      " 2.50000e+01 1.80000e+01 1.50000e+01 1.50000e+01 7.00000e+00 7.00000e+00\n",
      " 6.00000e+00 1.00000e+00 5.00000e+00 1.00000e+00 0.00000e+00 1.00000e+00\n",
      " 0.00000e+00 0.00000e+00 0.00000e+00 0.00000e+00 0.00000e+00 0.00000e+00\n",
      " 0.00000e+00 0.00000e+00 0.00000e+00 0.00000e+00 0.00000e+00 0.00000e+00\n",
      " 0.00000e+00 0.00000e+00 0.00000e+00 0.00000e+00 0.00000e+00 0.00000e+00\n",
      " 1.34426e+05 3.72600e+03 2.97600e+03 2.22400e+03 1.58700e+03 1.18800e+03\n",
      " 7.91000e+02 6.27000e+02 4.83000e+02 3.68000e+02 2.88000e+02 2.61000e+02\n",
      " 2.21000e+02 1.54000e+02 1.47000e+02 1.23000e+02 1.08000e+02 1.06000e+02\n",
      " 1.03000e+02 8.10000e+01 7.50000e+01 6.00000e+01 5.00000e+01 4.90000e+01\n",
      " 4.50000e+01 4.10000e+01 3.20000e+01 3.40000e+01 2.80000e+01 1.90000e+01\n",
      " 2.50000e+01 2.20000e+01 1.70000e+01 1.70000e+01 1.60000e+01 1.30000e+01\n",
      " 1.00000e+01 9.00000e+00 9.00000e+00 5.00000e+00 7.00000e+00 5.00000e+00\n",
      " 3.00000e+00 5.00000e+00 6.00000e+00 5.00000e+00 4.00000e+00 4.00000e+00\n",
      " 3.00000e+00 3.00000e+00 3.00000e+00 1.31518e+05 6.30800e+03 2.03600e+03\n",
      " 1.76500e+03 1.56400e+03 1.32000e+03 1.12000e+03 9.22000e+02 8.13000e+02\n",
      " 6.05000e+02 5.14000e+02 4.49000e+02 3.85000e+02 3.17000e+02 2.87000e+02\n",
      " 2.18000e+02 2.06000e+02 1.94000e+02 1.71000e+02 1.35000e+02 1.49000e+02\n",
      " 1.42000e+02 9.40000e+01 9.70000e+01 9.20000e+01 8.60000e+01 7.80000e+01\n",
      " 6.90000e+01 7.40000e+01 7.30000e+01 6.70000e+01 6.00000e+01 4.70000e+01\n",
      " 5.80000e+01 4.90000e+01 5.40000e+01 4.90000e+01 4.40000e+01 4.20000e+01\n",
      " 3.30000e+01 3.20000e+01 2.90000e+01 3.20000e+01 2.40000e+01 2.30000e+01\n",
      " 1.70000e+01 2.20000e+01 1.80000e+01 2.00000e+01 2.00000e+01 1.40000e+01\n",
      " 1.30915e+05 1.10050e+04 1.59400e+03 1.44900e+03 1.29600e+03 1.15000e+03\n",
      " 1.06700e+03 1.00800e+03 8.37000e+02 7.32000e+02 6.54000e+02 5.67000e+02\n",
      " 4.90000e+02 4.45000e+02 3.76000e+02 3.44000e+02 2.91000e+02 2.75000e+02\n",
      " 2.26000e+02 2.07000e+02 1.80000e+02 1.73000e+02 1.68000e+02 1.41000e+02\n",
      " 1.44000e+02 1.26000e+02 1.11000e+02 1.00000e+02 9.60000e+01 1.00000e+02\n",
      " 8.40000e+01 7.80000e+01 7.80000e+01 7.50000e+01 6.00000e+01 5.80000e+01\n",
      " 6.20000e+01 5.00000e+01 5.70000e+01 5.30000e+01 4.20000e+01 4.20000e+01\n",
      " 4.50000e+01 4.50000e+01 3.80000e+01 3.70000e+01 4.20000e+01 3.60000e+01\n",
      " 3.60000e+01 2.90000e+01 3.30000e+01 1.00000e+00]\n"
     ]
    }
   ],
   "source": [
    "def pre_process(idx: int, typ: int = 1):\n",
    "    res = []\n",
    "    src = 'Stego' if typ == 1 else 'Cover' # 1 for stego, 0 for cover\n",
    "    img = cv2.imread(path + f'/{src}/{idx+1}.pgm') # 读入图像数据\n",
    "    for ker in kernels:\n",
    "        cov = cv2.filter2D(img, cv2.CV_8U, kernel=np.array(ker)) # 卷积\n",
    "        hist = cv2.calcHist([cov], [0], None, [256], [0, 256]).flatten() # 计算直方图\n",
    "        hist = pool(torch.tensor(hist.reshape(1,-1))).numpy().squeeze() # 池化\n",
    "        res = np.concatenate((res, hist), axis=0) # 拼接\n",
    "    res = np.append(res, float(typ)) # 添加标签\n",
    "    return res\n",
    "\n",
    "\n",
    "print(pre_process(0))\n"
   ]
  },
  {
   "cell_type": "code",
   "execution_count": 94,
   "metadata": {},
   "outputs": [
    {
     "name": "stdout",
     "output_type": "stream",
     "text": [
      "[(array([1, 0, 0, 0, 0, 0, 0, 0, 0, 0]), array([0, 0, 1, 1, 1, 0, 0, 0, 0, 1]))]\n"
     ]
    }
   ],
   "source": [
    "from collections import Counter\n",
    "indexes = [0, 1, 2, 3, 4, 5, 6, 8, 10]\n",
    "kernel = [[-1, 0, -1], [-1, 6, -1], [-1, 0, -1]]\n",
    "\n",
    "def pre_process(idx: int, typ: int = 1, indexes=indexes):\n",
    "    src = 'Stego' if typ == 1 else 'Cover' # 1 for stego, 0 for cover\n",
    "    img = cv2.imread(path + f'/{src}/{idx+1}.pgm') # 读入图像数据\n",
    "    cov = cv2.filter2D(img, cv2.CV_16S, kernel=np.array(kernel)) # 卷积\n",
    "    arr = np.array(cov).flatten() # 拉平\n",
    "    ans = Counter(arr)  # 计数\n",
    "    ans = np.array([(ans[i]+ans[-i]) for i in indexes]).flatten() # 统计\n",
    "    cv2.normalize(ans, ans, 0, 1, cv2.NORM_MINMAX) # 归一化\n",
    "    ans = np.append(ans, typ) # 添加标签\n",
    "    return ans\n",
    "\n",
    "\n",
    "print([(pre_process(i, 0),pre_process(i, 1)) for i in range(1)])"
   ]
  },
  {
   "cell_type": "code",
   "execution_count": 95,
   "metadata": {},
   "outputs": [],
   "source": [
    "from sklearn.naive_bayes import GaussianNB\n",
    "from sklearn.naive_bayes import MultinomialNB\n",
    "from sklearn.naive_bayes import BernoulliNB"
   ]
  },
  {
   "cell_type": "code",
   "execution_count": 96,
   "metadata": {},
   "outputs": [],
   "source": [
    "covers = [pre_process(i, 0) for i in range(nr_imgs)]\n",
    "stegos = [pre_process(i, 1) for i in range(nr_imgs)]\n",
    "data = np.array(covers + stegos)\n",
    "np.random.seed(32)\n",
    "np.random.shuffle(data)"
   ]
  },
  {
   "cell_type": "code",
   "execution_count": 97,
   "metadata": {},
   "outputs": [],
   "source": [
    "# split_line = int(data.shape[0] * 0.8)\n",
    "data_x= data[:, :-1]\n",
    "data_y= data[:, -1]"
   ]
  },
  {
   "cell_type": "code",
   "execution_count": 98,
   "metadata": {},
   "outputs": [
    {
     "name": "stdout",
     "output_type": "stream",
     "text": [
      "GaussianNB的四项指标\n",
      "精度: 0.77\n",
      "查准率: 0.684931506849315\n",
      "查全率: 1.0\n",
      "f1值: 0.8130081300813007\n"
     ]
    }
   ],
   "source": [
    "model1=GaussianNB()\n",
    "prediction1=cross_val_predict(model1,data_x,data_y,cv=10)\n",
    "acc1 = accuracy_score(data_y,prediction1)\n",
    "precision1 = precision_score(data_y,prediction1)\n",
    "recall1 = recall_score(data_y,prediction1)\n",
    "f1 = f1_score(data_y,prediction1)\n",
    "print(\"GaussianNB的四项指标\")\n",
    "print(\"精度:\",acc1)\n",
    "print(\"查准率:\",precision1)\n",
    "print(\"查全率:\",recall1)\n",
    "print(\"f1值:\",f1)"
   ]
  },
  {
   "cell_type": "code",
   "execution_count": 99,
   "metadata": {},
   "outputs": [
    {
     "name": "stdout",
     "output_type": "stream",
     "text": [
      "BernoulliNB的四项指标\n",
      "精度: 0.865\n",
      "查准率: 0.8411214953271028\n",
      "查全率: 0.9\n",
      "f1值: 0.8695652173913043\n"
     ]
    }
   ],
   "source": [
    "model2=BernoulliNB()\n",
    "prediction2=cross_val_predict(model2,data_x,data_y,cv=10)\n",
    "acc2 = accuracy_score(data_y,prediction2)\n",
    "precision2 = precision_score(data_y,prediction2)\n",
    "recall2 = recall_score(data_y,prediction2)\n",
    "f2 = f1_score(data_y,prediction2)\n",
    "print(\"BernoulliNB的四项指标\")\n",
    "print(\"精度:\",acc2)\n",
    "print(\"查准率:\",precision2)\n",
    "print(\"查全率:\",recall2)\n",
    "print(\"f1值:\",f2)\n"
   ]
  },
  {
   "cell_type": "code",
   "execution_count": 100,
   "metadata": {},
   "outputs": [
    {
     "name": "stdout",
     "output_type": "stream",
     "text": [
      "MultinomialNB的四项指标\n",
      "精度: 0.87\n",
      "查准率: 0.8490566037735849\n",
      "查全率: 0.9\n",
      "f1值: 0.8737864077669903\n"
     ]
    }
   ],
   "source": [
    "model=MultinomialNB()\n",
    "prediction=cross_val_predict(model,data_x,data_y,cv=10)\n",
    "acc = accuracy_score(data_y,prediction)\n",
    "precision = precision_score(data_y,prediction)\n",
    "recall = recall_score(data_y,prediction)\n",
    "f = f1_score(data_y,prediction)\n",
    "print(\"MultinomialNB的四项指标\")\n",
    "print(\"精度:\",acc)\n",
    "print(\"查准率:\",precision)\n",
    "print(\"查全率:\",recall)\n",
    "print(\"f1值:\",f)"
   ]
  }
 ],
 "metadata": {
  "kernelspec": {
   "display_name": "Python 3",
   "language": "python",
   "name": "python3"
  },
  "language_info": {
   "codemirror_mode": {
    "name": "ipython",
    "version": 3
   },
   "file_extension": ".py",
   "mimetype": "text/x-python",
   "name": "python",
   "nbconvert_exporter": "python",
   "pygments_lexer": "ipython3",
   "version": "3.9.13 (tags/v3.9.13:6de2ca5, May 17 2022, 16:36:42) [MSC v.1929 64 bit (AMD64)]"
  },
  "orig_nbformat": 4,
  "vscode": {
   "interpreter": {
    "hash": "04e9e5813dec23cf8df0339dedd56294605ba429ed9ba664adae1d7849234c53"
   }
  }
 },
 "nbformat": 4,
 "nbformat_minor": 2
}
